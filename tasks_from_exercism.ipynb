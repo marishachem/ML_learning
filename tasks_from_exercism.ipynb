{
 "cells": [
  {
   "cell_type": "code",
   "execution_count": 2,
   "id": "0d7b6e21-8642-40b7-98d4-e5458a7d0de9",
   "metadata": {},
   "outputs": [
    {
     "data": {
      "text/plain": [
       "True"
      ]
     },
     "execution_count": 2,
     "metadata": {},
     "output_type": "execute_result"
    }
   ],
   "source": [
    "#stack\n",
    "def is_paired(input_string):  \n",
    "    stack = []\n",
    "    opening_brackets = '([{'\n",
    "    closing_brackets = ')]}'\n",
    "    bracket_map = {')': '(', ']': '[', '}': '{'}\n",
    "    for char in input_string:\n",
    "        if char in opening_brackets:\n",
    "            stack.append(char)\n",
    "        elif char in closing_brackets:\n",
    "            if not stack or stack[-1] != bracket_map[char]:\n",
    "                return False\n",
    "            stack.pop()\n",
    "\n",
    "    return len(stack) == 0\n",
    "\n",
    "is_paired(\"([{}({}[])])\")\n",
    "#, True        "
   ]
  },
  {
   "cell_type": "code",
   "execution_count": 3,
   "id": "702d568e-c4bf-4c8f-936e-b05e1e47c9f0",
   "metadata": {},
   "outputs": [],
   "source": [
    "#regexp\n",
    "import re\n",
    "def translate(text):\n",
    "    vowels = ['a', 'e', 'i', 'o', 'u']\n",
    "    consonants = ['b', 'c', 'd', 'f', 'g', 'h', 'j', 'k', 'l', 'm', 'n', 'p', 'q', 'r', 's', 't', 'v', 'w', 'x', 'y', 'z']\n",
    "    pattern_1 = r\"^[bcdfghjklmnpqrstvwxyz]*qu\"\n",
    "    pattern_2 = r\"^[bcdfghjklmnpqrstvwxyz]+y\"\n",
    "    pattern_3 = r\"^[bcdfghjklmnpqrstvwxyz]+\"     \n",
    "    \n",
    "    text_ = text.split() \n",
    "    translated_words = []\n",
    "    for word in text_:  \n",
    "        if word.startswith(\"xr\") or word.startswith(\"yt\") or word[0] in vowels:\n",
    "            w = word + \"ay\"   \n",
    "        elif re.search(pattern_1, word):\n",
    "            matched = re.search(pattern_1, word).group()\n",
    "            w = word[len(matched):] + matched + \"ay\"\n",
    "        elif re.search(pattern_2, word):               \n",
    "            matched_ = re.search(pattern_2, word).group()            \n",
    "            w = word[len(matched_)-1:] +  matched_[:-1] + \"ay\" \n",
    "        elif re.search(pattern_3, word):\n",
    "            matched_1 = re.search(pattern_3, word).group()\n",
    "            w = word[len(matched_1):] + matched_1  + \"ay\"  \n",
    "        else:\n",
    "            w = word\n",
    "        translated_words.append(w)\n",
    "    return ' '.join(translated_words)\n",
    "       \n",
    "        "
   ]
  },
  {
   "cell_type": "code",
   "execution_count": 4,
   "id": "08b65f43-d8d1-4df2-bed9-6c0bcd6bcb47",
   "metadata": {},
   "outputs": [],
   "source": [
    "def two_fer(name='you'): \n",
    "    return f'One for {name}, one for me.'\n"
   ]
  },
  {
   "cell_type": "code",
   "execution_count": 6,
   "id": "165b4996-8a2a-4252-b737-576821f49efc",
   "metadata": {},
   "outputs": [],
   "source": [
    "\n",
    "import datetime\n",
    "def add(moment):    \n",
    "    gigasecond = 10**9\n",
    "    new_date = moment + datetime.timedelta(seconds=gigasecond)\n",
    "    return new_date\n"
   ]
  },
  {
   "cell_type": "code",
   "execution_count": 7,
   "id": "2209f00a-5ae9-4c2f-aa24-9f1bd2e8012c",
   "metadata": {},
   "outputs": [],
   "source": [
    "EQUAL = \"EQUAL\"\n",
    "SUPERLIST = \"SUPERLIST\"\n",
    "SUBLIST = \"SUBLIST\"\n",
    "UNEQUAL = \"UNEQUAL\"\n",
    "\n",
    "\n",
    "def sublist(list_one, list_two):\n",
    "    if list_one == list_two:\n",
    "        return EQUAL\n",
    "    elif is_sublist(list_one,list_two):\n",
    "        return SUBLIST\n",
    "    elif is_sublist(list_two,list_one):\n",
    "        return SUPERLIST\n",
    "    else:\n",
    "        return UNEQUAL\n",
    "\n",
    "def is_sublist(one,two):\n",
    "    for i in range(len(two) - len(one) + 1):\n",
    "        if not one or one == two[i:i + len(one)]:\n",
    "            return True\n",
    "    return False\n"
   ]
  },
  {
   "cell_type": "code",
   "execution_count": 1,
   "id": "9ba38139-79ee-49e7-8603-956f12daf7e3",
   "metadata": {},
   "outputs": [
    {
     "name": "stdout",
     "output_type": "stream",
     "text": [
      "      A      \n",
      "     B B     \n",
      "    C   C    \n",
      "   D     D   \n",
      "  E       E  \n",
      " F         F \n",
      "G           G\n",
      " F         F \n",
      "  E       E  \n",
      "   D     D   \n",
      "    C   C    \n",
      "     B B     \n",
      "      A      \n"
     ]
    }
   ],
   "source": [
    "def rows(letter):\n",
    "    d = {'A':'A', 'B':'B B', 'C':'C   C', 'D':'D     D', 'E':'E       E','F':'F         F', 'G':'G           G', 'H':'H             H','I':'I               I', 'J':'J                 J', 'K':'K                   K', 'L':'L                     L', 'M':'M                       M','N':'N                         N', 'O':'O                           O', 'P':'P                             P', 'Q':'Q                               Q','R':'R                                 R', 'S':'S                                   S', 'T':'T                                     T','U':'U                                       U', 'V':'V                                         V', 'W':'W                                           W','X':'X                                             X', 'Y':'Y                                               Y', 'Z':'Z                                                 Z'}\n",
    "    l = ['A', 'B', 'C', 'D', 'E', 'F', 'G', 'H', 'I', 'J', 'K', 'L', 'M', 'N', 'O', 'P', 'Q', 'R', 'S', 'T', 'U', 'V', 'W', 'X', 'Y', 'Z']\n",
    "    idx = l.index(letter)\n",
    "    line_down = []\n",
    "    line_up = []\n",
    "    nl = '\\n'\n",
    "    for num,let in enumerate(reversed(l[0:idx]),1):             \n",
    "        line_down += [f\"{' ' * num}{d[let]}{' ' * num}\"]        \n",
    "    for num,let in enumerate(l[0:idx+1]):\n",
    "        line_up += [f\"{' ' * (idx-num)}{d[let]}{' ' * (idx-num)}\"]     \n",
    "    line_up.extend(line_down)\n",
    "    lines = nl.join(line_up)\n",
    "    print(lines)\n",
    "        \n",
    "       \n",
    "        \n",
    "    \n",
    "\n",
    "rows('G')    \n"
   ]
  }
 ],
 "metadata": {
  "kernelspec": {
   "display_name": "Python 3 (ipykernel)",
   "language": "python",
   "name": "python3"
  },
  "language_info": {
   "codemirror_mode": {
    "name": "ipython",
    "version": 3
   },
   "file_extension": ".py",
   "mimetype": "text/x-python",
   "name": "python",
   "nbconvert_exporter": "python",
   "pygments_lexer": "ipython3",
   "version": "3.12.3"
  }
 },
 "nbformat": 4,
 "nbformat_minor": 5
}
