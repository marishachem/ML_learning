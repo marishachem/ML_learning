{
 "cells": [
  {
   "cell_type": "code",
   "execution_count": 2,
   "id": "0d7b6e21-8642-40b7-98d4-e5458a7d0de9",
   "metadata": {},
   "outputs": [
    {
     "data": {
      "text/plain": [
       "True"
      ]
     },
     "execution_count": 2,
     "metadata": {},
     "output_type": "execute_result"
    }
   ],
   "source": [
    "#stack\n",
    "def is_paired(input_string):  \n",
    "    stack = []\n",
    "    opening_brackets = '([{'\n",
    "    closing_brackets = ')]}'\n",
    "    bracket_map = {')': '(', ']': '[', '}': '{'}\n",
    "    for char in input_string:\n",
    "        if char in opening_brackets:\n",
    "            stack.append(char)\n",
    "        elif char in closing_brackets:\n",
    "            if not stack or stack[-1] != bracket_map[char]:\n",
    "                return False\n",
    "            stack.pop()\n",
    "\n",
    "    return len(stack) == 0\n",
    "\n",
    "is_paired(\"([{}({}[])])\")\n",
    "#, True        "
   ]
  },
  {
   "cell_type": "code",
   "execution_count": 3,
   "id": "702d568e-c4bf-4c8f-936e-b05e1e47c9f0",
   "metadata": {},
   "outputs": [],
   "source": [
    "#regexp\n",
    "import re\n",
    "def translate(text):\n",
    "    vowels = ['a', 'e', 'i', 'o', 'u']\n",
    "    consonants = ['b', 'c', 'd', 'f', 'g', 'h', 'j', 'k', 'l', 'm', 'n', 'p', 'q', 'r', 's', 't', 'v', 'w', 'x', 'y', 'z']\n",
    "    pattern_1 = r\"^[bcdfghjklmnpqrstvwxyz]*qu\"\n",
    "    pattern_2 = r\"^[bcdfghjklmnpqrstvwxyz]+y\"\n",
    "    pattern_3 = r\"^[bcdfghjklmnpqrstvwxyz]+\"     \n",
    "    \n",
    "    text_ = text.split() \n",
    "    translated_words = []\n",
    "    for word in text_:  \n",
    "        if word.startswith(\"xr\") or word.startswith(\"yt\") or word[0] in vowels:\n",
    "            w = word + \"ay\"   \n",
    "        elif re.search(pattern_1, word):\n",
    "            matched = re.search(pattern_1, word).group()\n",
    "            w = word[len(matched):] + matched + \"ay\"\n",
    "        elif re.search(pattern_2, word):               \n",
    "            matched_ = re.search(pattern_2, word).group()            \n",
    "            w = word[len(matched_)-1:] +  matched_[:-1] + \"ay\" \n",
    "        elif re.search(pattern_3, word):\n",
    "            matched_1 = re.search(pattern_3, word).group()\n",
    "            w = word[len(matched_1):] + matched_1  + \"ay\"  \n",
    "        else:\n",
    "            w = word\n",
    "        translated_words.append(w)\n",
    "    return ' '.join(translated_words)\n",
    "       \n",
    "        "
   ]
  },
  {
   "cell_type": "code",
   "execution_count": 4,
   "id": "08b65f43-d8d1-4df2-bed9-6c0bcd6bcb47",
   "metadata": {},
   "outputs": [],
   "source": [
    "def two_fer(name='you'): \n",
    "    return f'One for {name}, one for me.'\n"
   ]
  },
  {
   "cell_type": "code",
   "execution_count": 6,
   "id": "165b4996-8a2a-4252-b737-576821f49efc",
   "metadata": {},
   "outputs": [],
   "source": [
    "\n",
    "import datetime\n",
    "def add(moment):    \n",
    "    gigasecond = 10**9\n",
    "    new_date = moment + datetime.timedelta(seconds=gigasecond)\n",
    "    return new_date\n"
   ]
  },
  {
   "cell_type": "code",
   "execution_count": 7,
   "id": "2209f00a-5ae9-4c2f-aa24-9f1bd2e8012c",
   "metadata": {},
   "outputs": [],
   "source": [
    "EQUAL = \"EQUAL\"\n",
    "SUPERLIST = \"SUPERLIST\"\n",
    "SUBLIST = \"SUBLIST\"\n",
    "UNEQUAL = \"UNEQUAL\"\n",
    "\n",
    "\n",
    "def sublist(list_one, list_two):\n",
    "    if list_one == list_two:\n",
    "        return EQUAL\n",
    "    elif is_sublist(list_one,list_two):\n",
    "        return SUBLIST\n",
    "    elif is_sublist(list_two,list_one):\n",
    "        return SUPERLIST\n",
    "    else:\n",
    "        return UNEQUAL\n",
    "\n",
    "def is_sublist(one,two):\n",
    "    for i in range(len(two) - len(one) + 1):\n",
    "        if not one or one == two[i:i + len(one)]:\n",
    "            return True\n",
    "    return False\n"
   ]
  },
  {
   "cell_type": "code",
   "execution_count": 2,
   "id": "9ba38139-79ee-49e7-8603-956f12daf7e3",
   "metadata": {},
   "outputs": [
    {
     "name": "stdout",
     "output_type": "stream",
     "text": [
      "      A      \n",
      "     B B     \n",
      "    C   C    \n",
      "   D     D   \n",
      "  E       E  \n",
      " F         F \n",
      "G           G\n",
      " F         F \n",
      "  E       E  \n",
      "   D     D   \n",
      "    C   C    \n",
      "     B B     \n",
      "      A      \n"
     ]
    }
   ],
   "source": [
    "def rows(letter):\n",
    "    d = {'A':'A', 'B':'B B', 'C':'C   C', 'D':'D     D', 'E':'E       E','F':'F         F', 'G':'G           G', 'H':'H             H','I':'I               I', 'J':'J                 J', 'K':'K                   K', 'L':'L                     L', 'M':'M                       M','N':'N                         N', 'O':'O                           O', 'P':'P                             P', 'Q':'Q                               Q','R':'R                                 R', 'S':'S                                   S', 'T':'T                                     T','U':'U                                       U', 'V':'V                                         V', 'W':'W                                           W','X':'X                                             X', 'Y':'Y                                               Y', 'Z':'Z                                                 Z'}\n",
    "    l = ['A', 'B', 'C', 'D', 'E', 'F', 'G', 'H', 'I', 'J', 'K', 'L', 'M', 'N', 'O', 'P', 'Q', 'R', 'S', 'T', 'U', 'V', 'W', 'X', 'Y', 'Z']\n",
    "    idx = l.index(letter)\n",
    "    line_down = []\n",
    "    line_up = []\n",
    "    nl = '\\n'\n",
    "    for num,let in enumerate(reversed(l[0:idx]),1):             \n",
    "        line_down += [f\"{' ' * num}{d[let]}{' ' * num}\"]        \n",
    "    for num,let in enumerate(l[0:idx+1]):\n",
    "        line_up += [f\"{' ' * (idx-num)}{d[let]}{' ' * (idx-num)}\"]     \n",
    "    line_up.extend(line_down)\n",
    "    lines = nl.join(line_up)\n",
    "    print(lines)\n",
    "        \n",
    "       \n",
    "        \n",
    "    \n",
    "\n",
    "rows('G')    \n"
   ]
  },
  {
   "cell_type": "code",
   "execution_count": 4,
   "id": "cdd80f80-2ae0-4675-9d10-b25bfb87b042",
   "metadata": {},
   "outputs": [
    {
     "data": {
      "text/plain": [
       "['Tryptophan', 'Cysteine', 'Tyrosine']"
      ]
     },
     "execution_count": 4,
     "metadata": {},
     "output_type": "execute_result"
    }
   ],
   "source": [
    "def proteins(strand):\n",
    "    codon_protein = {'AUG':'Methionine','UUU':'Phenylalanine','UUC':'Phenylalanine','UUA':'Leucine', 'UUG':'Leucine','UCU':'Serine', 'UCC':'Serine', 'UCA':'Serine','UCG':'Serine','UAU':'Tyrosine', 'UAC':'Tyrosine','UGU':'Cysteine','UGC':'Cysteine','UGG':'Tryptophan','UAA':'STOP', 'UAG':'STOP','UGA':'STOP'}  \n",
    "    l = [el for el in strand]\n",
    "    s = ''\n",
    "    r = []\n",
    "    aa = []\n",
    "    for i in range(0,len(l),3):\n",
    "        s = ''.join(l[i:i+3])\n",
    "        r.append(s)        \n",
    "    decoded = [codon_protein[x] for x in r]    \n",
    "    for a in decoded:        \n",
    "        if a == 'STOP':\n",
    "            break\n",
    "        else:\n",
    "            aa.append(a)\n",
    "    return aa\n",
    "    \n",
    "proteins(\"UGGUGUUAUUAAUGGUUU\")        "
   ]
  },
  {
   "cell_type": "code",
   "execution_count": null,
   "id": "e0d9a1d6-cb71-4075-b37c-5973d887ad93",
   "metadata": {},
   "outputs": [],
   "source": []
  },
  {
   "cell_type": "code",
   "execution_count": 2,
   "id": "5e845ebf-3785-4f56-b7d2-16d943b57733",
   "metadata": {},
   "outputs": [
    {
     "data": {
      "text/plain": [
       "[11, 9539, 894119]"
      ]
     },
     "execution_count": 2,
     "metadata": {},
     "output_type": "execute_result"
    }
   ],
   "source": [
    "#prime factors\n",
    "def factors(value):\n",
    "    divisors = []\n",
    "    i = 2\n",
    "    while value >= 2:         \n",
    "        if value % i == 0:\n",
    "            divisors.append(i)\n",
    "            value = value // i\n",
    "        else:\n",
    "            i+=1           \n",
    "    return divisors\n",
    "factors(93819012551)\n",
    "\n"
   ]
  },
  {
   "cell_type": "code",
   "execution_count": null,
   "id": "31c5e335-a795-40bd-ae9a-41f8fa79135c",
   "metadata": {},
   "outputs": [],
   "source": []
  },
  {
   "cell_type": "code",
   "execution_count": 1,
   "id": "952ec89e-558c-446b-be76-d8f8dc9d3864",
   "metadata": {},
   "outputs": [
    {
     "name": "stdout",
     "output_type": "stream",
     "text": [
      "zero\n",
      "fourteen\n",
      "seventy-four\n",
      "seventy-four million five hundred forty-three thousand five hundred thirty-four\n",
      "one hundred million\n"
     ]
    },
    {
     "ename": "ValueError",
     "evalue": "input out of range",
     "output_type": "error",
     "traceback": [
      "\u001b[0;31m---------------------------------------------------------------------------\u001b[0m",
      "\u001b[0;31mValueError\u001b[0m                                Traceback (most recent call last)",
      "Cell \u001b[0;32mIn[1], line 79\u001b[0m\n\u001b[1;32m     77\u001b[0m say(\u001b[38;5;241m74543534\u001b[39m) \n\u001b[1;32m     78\u001b[0m say(\u001b[38;5;241m100000000\u001b[39m)\n\u001b[0;32m---> 79\u001b[0m \u001b[43msay\u001b[49m\u001b[43m(\u001b[49m\u001b[38;5;241;43m10000000000000000\u001b[39;49m\u001b[43m)\u001b[49m\n\u001b[1;32m     80\u001b[0m say(\u001b[38;5;241m-\u001b[39m\u001b[38;5;241m3\u001b[39m)\n",
      "Cell \u001b[0;32mIn[1], line 38\u001b[0m, in \u001b[0;36msay\u001b[0;34m(number)\u001b[0m\n\u001b[1;32m     36\u001b[0m     \u001b[38;5;28;01mraise\u001b[39;00m \u001b[38;5;167;01mValueError\u001b[39;00m(\u001b[38;5;124m\"\u001b[39m\u001b[38;5;124minput is negative\u001b[39m\u001b[38;5;124m\"\u001b[39m)\n\u001b[1;32m     37\u001b[0m \u001b[38;5;28;01melif\u001b[39;00m number \u001b[38;5;241m>\u001b[39m \u001b[38;5;241m999999999999\u001b[39m:\n\u001b[0;32m---> 38\u001b[0m     \u001b[38;5;28;01mraise\u001b[39;00m \u001b[38;5;167;01mValueError\u001b[39;00m(\u001b[38;5;124m\"\u001b[39m\u001b[38;5;124minput out of range\u001b[39m\u001b[38;5;124m\"\u001b[39m)\n\u001b[1;32m     39\u001b[0m \u001b[38;5;28;01melse\u001b[39;00m:\n\u001b[1;32m     40\u001b[0m     \u001b[38;5;28;01mwhile\u001b[39;00m lenght \u001b[38;5;241m>\u001b[39m \u001b[38;5;241m3\u001b[39m:            \n",
      "\u001b[0;31mValueError\u001b[0m: input out of range"
     ]
    }
   ],
   "source": [
    "def convert_num_to_word(number):\n",
    "    ones = [\"\", \"one\", \"two\", \"three\", \"four\", \"five\", \"six\", \"seven\", \"eight\", \"nine\"]\n",
    "    teens = [\"ten\", \"eleven\", \"twelve\", \"thirteen\", \"fourteen\", \"fifteen\", \"sixteen\", \"seventeen\", \"eighteen\", \"nineteen\"]\n",
    "    tens = [\"\", \"\", \"twenty\", \"thirty\", \"forty\", \"fifty\", \"sixty\", \"seventy\", \"eighty\", \"ninety\"]\n",
    "    \n",
    "    if number == 0:\n",
    "        return 'zero'\n",
    "    \n",
    "    result_num = ''\n",
    "    \n",
    "    if number >= 100:\n",
    "        result_num += ones[number // 100] + ' hundred'\n",
    "        number %= 100\n",
    "        if number > 0:\n",
    "            result_num += ' '\n",
    "    \n",
    "    if 10 <= number < 20:\n",
    "        result_num += teens[number - 10]\n",
    "    elif number >= 20:\n",
    "        result_num += tens[number // 10]\n",
    "        number %= 10\n",
    "        if number > 0:\n",
    "            result_num += \"-\" + ones[number]\n",
    "    else:\n",
    "        result_num += ones[number]\n",
    "\n",
    "    return result_num.strip()\n",
    "   \n",
    "\n",
    "def say(number):\n",
    "#    numbers = [number]\n",
    "    numbers = []\n",
    "    lenght = len(str(number))\n",
    "    list_num = [] \n",
    "    if number < 0:\n",
    "        raise ValueError(\"input is negative\")\n",
    "    elif number > 999999999999:\n",
    "        raise ValueError(\"input out of range\")\n",
    "    else:\n",
    "        while lenght > 3:            \n",
    "            num_float = number / (10 ** 3) # получаю float\n",
    "            splitted_num = str(num_float).split('.')\n",
    "#            print(splitted_num)\n",
    "            numbers.insert(0,int(splitted_num[-1]))\n",
    "            number = int(splitted_num[0])\n",
    "#            print(number)\n",
    "            lenght-=3\n",
    "        numbers.insert(0,number)\n",
    "        \n",
    "#        print(numbers)\n",
    "            \n",
    "        if len(numbers) == 1:\n",
    "            list_to_convert_nums = convert_num_to_word(numbers[0])\n",
    "        elif len(numbers) == 2:\n",
    "            if numbers[1] == 0:\n",
    "                list_to_convert_nums = convert_num_to_word(numbers[0]) + ' thousand' \n",
    "            \n",
    "            else:\n",
    "                list_to_convert_nums = convert_num_to_word(numbers[0]) + ' thousand ' + convert_num_to_word(numbers[1])\n",
    "\n",
    "        elif len(numbers) == 3:\n",
    "            if numbers[1] == numbers[2] == 0:\n",
    "                list_to_convert_nums = convert_num_to_word(numbers[0]) + ' million'    \n",
    "            else:\n",
    "                list_to_convert_nums = convert_num_to_word(numbers[0]) + ' million ' + convert_num_to_word(numbers[1]) + ' thousand ' + convert_num_to_word(numbers[2])\n",
    "        else: \n",
    "            if numbers[1] == numbers[2] == numbers[3] == 0:\n",
    "                list_to_convert_nums = convert_num_to_word(numbers[0]) + ' billion'\n",
    "            else:\n",
    "                list_to_convert_nums = convert_num_to_word(numbers[0]) + ' billion ' +  convert_num_to_word(numbers[1]) + ' million ' + convert_num_to_word(numbers[2]) + ' thousand ' + convert_num_to_word(numbers[3])\n",
    "\n",
    "        print(list_to_convert_nums)\n",
    "        \n",
    "say(0)     \n",
    "say(14) \n",
    "say(74) \n",
    "say(74543534) \n",
    "say(100000000)\n",
    "say(10000000000000000)\n",
    "say(-3)"
   ]
  },
  {
   "cell_type": "code",
   "execution_count": 4,
   "id": "8671423e-52f0-4d61-ab57-411ec261d69b",
   "metadata": {},
   "outputs": [
    {
     "data": {
      "text/plain": [
       "['777', '777', '777', '777']"
      ]
     },
     "execution_count": 4,
     "metadata": {},
     "output_type": "execute_result"
    }
   ],
   "source": [
    "def slices(series, length):\n",
    "    sliced_list = []\n",
    "    ser_len = len(series)\n",
    "    if length == 0:\n",
    "        raise ValueError(\"slice length cannot be zero\")\n",
    "    if length < 0:\n",
    "        raise ValueError(\"slice length cannot be negative\")\n",
    "    if not series:\n",
    "        raise ValueError(\"series cannot be empty\")\n",
    "    if ser_len < length:\n",
    "        raise ValueError(\"slice length cannot be greater than series length\")\n",
    "    \n",
    "    for i in range(ser_len - length +1):\n",
    "        sliced_list.append(series[i:i+length])\n",
    "    return sliced_list                \n",
    "    #print(sliced_list)\n",
    "        \n",
    "slices(\"777777\", 3)\n",
    "#[\"777\", \"777\", \"777\", \"777\"]        \n",
    "        "
   ]
  },
  {
   "cell_type": "code",
   "execution_count": 5,
   "id": "480ec0bb-1c81-4ee0-b1d0-9f3e6ad017b6",
   "metadata": {},
   "outputs": [
    {
     "name": "stdout",
     "output_type": "stream",
     "text": [
      "2A3B2D4C\n"
     ]
    }
   ],
   "source": [
    "def encode(string):\n",
    "    count = 0\n",
    "    theSamesymb = False\n",
    "    encoded = ''\n",
    "    \n",
    "    for i in range(len(string)):\n",
    "       \n",
    "        if i == len(string) - 1:\n",
    "            encoded += '1' + string[i].upper() if not theSamesymb else str(count + 1) + string[i].upper()\n",
    "            break\n",
    "\n",
    "        if string[i] == string[i+1]:\n",
    "            count += 1\n",
    "            theSamesymb = True\n",
    "        else:\n",
    "            count += 1\n",
    "            encoded += str(count) + string[i].upper()\n",
    "            count = 0\n",
    "            theSamesymb = False\n",
    "\n",
    "    return encoded\n",
    "\n",
    "print(encode(\"AABBBDDCCCC\"))"
   ]
  },
  {
   "cell_type": "code",
   "execution_count": 7,
   "id": "c9a887c0-5728-4105-8062-40a098176901",
   "metadata": {},
   "outputs": [
    {
     "name": "stdout",
     "output_type": "stream",
     "text": [
      "WWWWWWWWWWWWBWWWWWWWWWWWWBBBWWWWWWWWWWWWWWWWWWWWWWWWB\n",
      "[(0, 'W'), (1, 'W'), (2, 'W'), (3, 'W'), (4, 'W'), (5, 'W'), (6, 'W'), (7, 'W'), (8, 'W'), (9, 'W'), (10, 'W'), (11, 'W'), (12, 'B'), (13, 'W'), (14, 'W'), (15, 'W'), (16, 'W'), (17, 'W'), (18, 'W'), (19, 'W'), (20, 'W'), (21, 'W'), (22, 'W'), (23, 'W'), (24, 'W'), (25, 'B'), (26, 'B'), (27, 'B'), (28, 'W'), (29, 'W'), (30, 'W'), (31, 'W'), (32, 'W'), (33, 'W'), (34, 'W'), (35, 'W'), (36, 'W'), (37, 'W'), (38, 'W'), (39, 'W'), (40, 'W'), (41, 'W'), (42, 'W'), (43, 'W'), (44, 'W'), (45, 'W'), (46, 'W'), (47, 'W'), (48, 'W'), (49, 'W'), (50, 'W'), (51, 'W'), (52, 'B')]\n"
     ]
    }
   ],
   "source": [
    "def decode(string):\n",
    "    decoded = ''    \n",
    "    i = 0\n",
    "    while i < len(string): \n",
    "        if string[i].isnumeric() and i + 1 < len(string):\n",
    "            if string[i+1].isnumeric() and i + 2 < len(string):\n",
    "                decoded += int(string[i:i+2]) * string[i+2] \n",
    "                i += 3\n",
    "\n",
    "            else:\n",
    "                decoded += int(string[i]) * string[i+1] \n",
    "                i += 2\n",
    "        else:\n",
    "            decoded += string[i] \n",
    "            i += 1      \n",
    "        \n",
    "#    print(decoded)    \n",
    "   \n",
    "    print(f'{[(i, string) for i, string in enumerate(decoded)]}')\n",
    "    \n",
    "decode(\"12WB12W3B24WB\")"
   ]
  },
  {
   "cell_type": "code",
   "execution_count": 14,
   "id": "5eed4b88-01b0-49ad-a8ce-bd91c92d189c",
   "metadata": {},
   "outputs": [
    {
     "data": {
      "text/plain": [
       "13"
      ]
     },
     "execution_count": 14,
     "metadata": {},
     "output_type": "execute_result"
    }
   ],
   "source": [
    "def ifprime(num):\n",
    "    for i in range(2, int(num**0.5)+1):\n",
    "        if num % i == 0:\n",
    "            return False\n",
    "    return True\n",
    "def prime(number):\n",
    "    count = 0    \n",
    "    prime = 2\n",
    "    if number == 0:\n",
    "        raise ValueError('there is no zeroth prime')\n",
    "    else:       \n",
    "        while count <= number:\n",
    "            if ifprime(prime) :\n",
    "                count +=1\n",
    "                if count == number:\n",
    "                    break\n",
    "            prime += 1\n",
    "        return prime\n",
    "prime(6)    "
   ]
  },
  {
   "cell_type": "code",
   "execution_count": null,
   "id": "f4511cf5-6d5e-4f6b-a94c-506930b33830",
   "metadata": {},
   "outputs": [],
   "source": []
  },
  {
   "cell_type": "code",
   "execution_count": 24,
   "id": "6bc91d63-7b68-4b02-a651-877352f683c8",
   "metadata": {},
   "outputs": [
    {
     "name": "stdout",
     "output_type": "stream",
     "text": [
      "['On the second day of Christmas my true love gave to me: two Turtle Doves, and a Partridge in a Pear Tree.', 'On the third day of Christmas my true love gave to me: three French Hens, two Turtle Doves, and a Partridge in a Pear Tree.']\n"
     ]
    }
   ],
   "source": [
    "def recite(start_verse, end_verse):\n",
    "    days = ['first', 'second', 'third', 'fourth', 'fifth', 'sixth', 'seventh', 'eighth', 'ninth', 'tenth', 'eleventh', 'twelfth']\n",
    "    presents = [\n",
    "        'a Partridge in a Pear Tree',\n",
    "        'two Turtle Doves',\n",
    "        'three French Hens',\n",
    "        'four Calling Birds',\n",
    "        'five Gold Rings',\n",
    "        'six Geese-a-Laying',\n",
    "        'seven Swans-a-Swimming',\n",
    "        'eight Maids-a-Milking',\n",
    "        'nine Ladies Dancing',\n",
    "        'ten Lords-a-Leaping',\n",
    "        'eleven Pipers Piping',\n",
    "        'twelve Drummers Drumming'\n",
    "    ]\n",
    "    \n",
    "    result = []\n",
    "    \n",
    "    for verse in range(start_verse, end_verse + 1):\n",
    "        second_part = []\n",
    "        \n",
    "        for i in range(verse):\n",
    "            if i > 0 and verse > 1 and i == verse - 1:\n",
    "                second_part.append(', and ')\n",
    "            elif i > 0:\n",
    "                second_part.append(', ')\n",
    "            second_part.append(presents[verse - i - 1])\n",
    "        \n",
    "        \n",
    "        full_verse = f'On the {days[verse - 1]} day of Christmas my true love gave to me: {\"\".join(second_part)}.'\n",
    "        result.append(full_verse)\n",
    "    \n",
    "    return result\n",
    "\n",
    "print(recite(2, 3))"
   ]
  },
  {
   "cell_type": "code",
   "execution_count": 23,
   "id": "04a2ee97-3c0c-4779-afba-eb9ee75d13f1",
   "metadata": {},
   "outputs": [
    {
     "data": {
      "text/plain": [
       "'MMMCCCXCIX'"
      ]
     },
     "execution_count": 23,
     "metadata": {},
     "output_type": "execute_result"
    }
   ],
   "source": [
    "def roman(number):\n",
    "    arab_num = [1000,900,500,\n",
    "                400,100,90,\n",
    "                50,40,10,\n",
    "                9,5,4,1]\n",
    "    rom_num = ['M','CM','D',\n",
    "               'CD','C','XC',\n",
    "               'L','XL','X',\n",
    "               'IX','V','IV',\n",
    "               'I']\n",
    "    rom = []    \n",
    " \n",
    "    for i in range(len(arab_num)):\n",
    "        if number >= arab_num[i]:\n",
    "            d = number // arab_num[i]\n",
    "            number =  number % arab_num[i]\n",
    "            rom.append(d*rom_num[i])\n",
    "#            print(rom)\n",
    "            \n",
    "            continue\n",
    "        continue\n",
    "    return ''.join(rom)      \n",
    "roman(3399)    "
   ]
  },
  {
   "cell_type": "code",
   "execution_count": 28,
   "id": "d8738c64-d38d-4a7a-a914-604c79f86a85",
   "metadata": {},
   "outputs": [
    {
     "data": {
      "text/plain": [
       "{'rah': 2,\n",
       " 'ah': 3,\n",
       " 'roma': 2,\n",
       " 'ma': 1,\n",
       " 'ga': 2,\n",
       " 'oh': 1,\n",
       " 'la': 2,\n",
       " 'want': 1,\n",
       " 'your': 1,\n",
       " 'bad': 1,\n",
       " 'romance': 1}"
      ]
     },
     "execution_count": 28,
     "metadata": {},
     "output_type": "execute_result"
    }
   ],
   "source": [
    "import re\n",
    "def count_words(sentence):      \n",
    "    modified_words =  sentence.strip(\"'\").replace(\"\\n\", \"\").lower()\n",
    "    modified_words = re.sub(r'[!?\"\".;-_: &$%\\t]', ',', modified_words)\n",
    "    words = modified_words.split(',')\n",
    "    count_words = {}\n",
    "    for word in words:\n",
    "        word = word.strip(\"'\")\n",
    "        if word == '':\n",
    "            continue\n",
    "        if word not in count_words:\n",
    "            count_words[word] = 1\n",
    "        else:\n",
    "            count_words[word] += 1\n",
    "    return count_words\n",
    "\n",
    "\n",
    "count_words(\n",
    "                \"rah rah ah ah ah\troma roma ma\tga ga oh la la\twant your bad romance\"\n",
    "            )\n",
    "            "
   ]
  },
  {
   "cell_type": "code",
   "execution_count": 1,
   "id": "ac9018ce-65c3-4c4a-9a34-2edb7ed1cabd",
   "metadata": {},
   "outputs": [
    {
     "name": "stdout",
     "output_type": "stream",
     "text": [
      "['For want of a pin the gun was lost.', 'For want of a gun the soldier was lost.', 'For want of a soldier the battle was lost.', 'And all for the want of a pin.']\n"
     ]
    }
   ],
   "source": [
    "def proverb(*input_data, qualifier=None):\n",
    "    res = []\n",
    "    if not input_data:\n",
    "        return []\n",
    "    for j in range(1,len(input_data)):        \n",
    "             \n",
    "        data = f'For want of a {input_data[j-1]} the {input_data[j]} was lost.'\n",
    "        res.append(data)\n",
    "    if not qualifier:\n",
    "        \n",
    "        res.append(f\"And all for the want of a {input_data[0]}.\")\n",
    "    else:\n",
    "        res.append(f\"And all for the want of a {qualifier} nail.\")\n",
    "       \n",
    "    print(res)\n",
    "    \n",
    "\n",
    "input_data = [\"pin\", \"gun\", \"soldier\", \"battle\"]\n",
    "proverb(*input_data, qualifier=None)"
   ]
  },
  {
   "cell_type": "code",
   "execution_count": 4,
   "id": "b683e0d3-e0d9-4b00-a1ac-13e43931d884",
   "metadata": {},
   "outputs": [
    {
     "data": {
      "text/plain": [
       "True"
      ]
     },
     "execution_count": 4,
     "metadata": {},
     "output_type": "execute_result"
    }
   ],
   "source": [
    "class Luhn:\n",
    "    def __init__(self, card_num):\n",
    "        self.card_num = card_num\n",
    "\n",
    "    def valid(self):\n",
    "        try:\n",
    "            c = list(map(int,self.card_num.replace(\" \",\"\")))\n",
    "        except:\n",
    "            return False            \n",
    "        if len(c) <= 1:\n",
    "            return False\n",
    "        rest = c[-1::-2]\n",
    "        l = [x * 2 for x in c[-2::-2]]\n",
    "        for i in range(len(l)):\n",
    "            if l[i] > 9:\n",
    "                l[i] -= 9\n",
    "        res = sum(l) + sum(rest)\n",
    "        if res % 10 == 0:\n",
    "            return True\n",
    "        return False\n",
    "\n",
    "Luhn(\"095 245 88\").valid()"
   ]
  },
  {
   "cell_type": "code",
   "execution_count": 6,
   "id": "a623da55-d011-4a4c-a975-08e0fe84f1f0",
   "metadata": {},
   "outputs": [],
   "source": [
    "import random\n",
    "import string\n",
    "\n",
    "def generate_new_name():\n",
    "    random.seed()\n",
    "    letters = ''.join(random.choices(string.ascii_uppercase, k=2))\n",
    "    numbers = ''.join(random.choices(string.digits, k=3))\n",
    "    return letters + numbers\n",
    "        \n",
    "class Robot:\n",
    "    def __init__(self):\n",
    "        self.reset()\n",
    "\n",
    "    def reset(self):\n",
    "        self.name = generate_new_name()\n"
   ]
  },
  {
   "cell_type": "code",
   "execution_count": 1,
   "id": "f1373042-4bab-40a4-b9b3-aabaae0f62fb",
   "metadata": {},
   "outputs": [
    {
     "data": {
      "text/plain": [
       "'(223)-456-7890'"
      ]
     },
     "execution_count": 1,
     "metadata": {},
     "output_type": "execute_result"
    }
   ],
   "source": [
    "import re\n",
    "\n",
    "class PhoneNumber:\n",
    "    def __init__(self, number:str):\n",
    "        edited_num = number.replace(\" \",\"\")\n",
    "        edited_num = edited_num.replace(\"-\",\"\")\n",
    "        edited_num = edited_num.replace(\".\",\"\")\n",
    "        edited_num = edited_num.replace(\"+\",\"\")\n",
    "        edited_num = edited_num.replace(\"(\",\"\")\n",
    "        number = edited_num.replace(\")\",\"\")\n",
    "        \n",
    "        \n",
    "\n",
    "        self.is_valid = self.check_if_valid(number)\n",
    "        self.number = self.clean_up(number)  \n",
    "\n",
    "        self.area_code = self.clean_up(number)[0:3]\n",
    "        \n",
    "\n",
    "    def pretty(self):\n",
    "        num = self.number\n",
    "        return \"(\" + num[:3] + \")-\" + num[3:6] + \"-\" + num[6:]\n",
    "\n",
    "    \n",
    "    def clean_up(self,number: str):\n",
    "        if len(number) == 11 and number[0] == '1':\n",
    "            return number[1:]\n",
    "        else:\n",
    "            return number\n",
    "\n",
    "    def check_if_valid(self,number:str):  \n",
    "        pattern = r'[!@#$%^&*_+=\\[\\]{};\\:\\\\|,<>\\/?]'\n",
    "        for symb in number:\n",
    "            if symb.isalpha():\n",
    "                raise ValueError(\"letters not permitted\")\n",
    "        if bool(re.search(pattern,number)):\n",
    "            raise ValueError( \"punctuations not permitted\") \n",
    "        elif len(number) > 11 :\n",
    "            raise ValueError(\"must not be greater than 11 digits\")\n",
    "        elif len(number) == 11 and number[0] != '1':\n",
    "            raise ValueError(\"11 digits must start with 1\")\n",
    "        elif len(number) < 10:\n",
    "            raise ValueError(\"must not be fewer than 10 digits\")        \n",
    "        elif number[-7] == '0':\n",
    "            raise ValueError(\"exchange code cannot start with zero\")\n",
    "        elif number[-7] == '1':\n",
    "            raise ValueError(\"exchange code cannot start with one\")\n",
    "        elif (number[0] == '0' and len(number) == 10) or (number[1] == '0' and len(number) == 11) :\n",
    "            raise ValueError(\"area code cannot start with zero\")\n",
    "        elif (number[0] == '1' and len(number) == 10) or (number[1] == '1' and len(number) == 11) :\n",
    "            raise ValueError(\"area code cannot start with one\")        \n",
    "        else:\n",
    "            return True  \n",
    "        \n",
    "#number = PhoneNumber(\"1 (023) 456-7890\")\n",
    "\n",
    "#print(number.number)\n",
    "\n",
    "number = PhoneNumber(\"12234567890\")\n",
    "number.pretty()\n",
    "#, \"(223)-456-7890\")"
   ]
  },
  {
   "cell_type": "code",
   "execution_count": 2,
   "id": "614beb1c-4ac8-4052-bebe-5a68f34b028d",
   "metadata": {},
   "outputs": [
    {
     "data": {
      "text/plain": [
       "False"
      ]
     },
     "execution_count": 2,
     "metadata": {},
     "output_type": "execute_result"
    }
   ],
   "source": [
    "class Queen:\n",
    "    def __init__(self, row, column):\n",
    "        if row < 0:\n",
    "            raise ValueError(\"row not positive\")\n",
    "        elif row > 7:\n",
    "            raise ValueError(\"row not on board\")\n",
    "        self.row = row  # Assigning row after validation\n",
    "        if column < 0:\n",
    "            raise ValueError(\"column not positive\")\n",
    "        elif column > 7:\n",
    "            raise ValueError(\"column not on board\")\n",
    "        self.column = column  # Assigning column after validation\n",
    "\n",
    "    def can_attack(self, another_queen):\n",
    "        row_another = another_queen.row\n",
    "        column_another = another_queen.column\n",
    "        if self.row == row_another and self.column == column_another:\n",
    "            raise ValueError(\"Invalid queen position: both queens in the same square\")\n",
    "        \n",
    "        if self.row == row_another or self.column == column_another:\n",
    "            return True\n",
    "        \n",
    "        if abs(self.row - row_another) == abs(self.column - column_another):\n",
    "            return True\n",
    "        \n",
    "        return False\n",
    "queen = Queen(1,5)\n",
    "another_queen = Queen(2,2)\n",
    "queen.can_attack(another_queen)"
   ]
  }
 ],
 "metadata": {
  "kernelspec": {
   "display_name": "Python 3 (ipykernel)",
   "language": "python",
   "name": "python3"
  },
  "language_info": {
   "codemirror_mode": {
    "name": "ipython",
    "version": 3
   },
   "file_extension": ".py",
   "mimetype": "text/x-python",
   "name": "python",
   "nbconvert_exporter": "python",
   "pygments_lexer": "ipython3",
   "version": "3.12.3"
  }
 },
 "nbformat": 4,
 "nbformat_minor": 5
}
