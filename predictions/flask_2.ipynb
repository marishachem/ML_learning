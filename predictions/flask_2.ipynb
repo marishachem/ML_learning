{
 "cells": [
  {
   "cell_type": "code",
   "execution_count": 60,
   "id": "23b8d296-7a8f-4673-b276-8e3ac967ff6f",
   "metadata": {},
   "outputs": [],
   "source": [
    "import numpy as np\n",
    "import pandas as pd \n",
    "from io import StringIO\n",
    "import os\n",
    "import warnings\n",
    "warnings.filterwarnings('ignore')\n",
    "from json import dumps, loads\n",
    "import itertools \n",
    "import statsmodels.api as sm\n",
    "from statsmodels.tsa.statespace.sarimax import SARIMAX"
   ]
  },
  {
   "cell_type": "code",
   "execution_count": 61,
   "id": "468bc53e-b11e-453e-9772-e41ec575dba0",
   "metadata": {},
   "outputs": [],
   "source": [
    "def transform_to_json(result_df):\n",
    "    result = result_df.to_json(orient=\"records\", date_format='iso')\n",
    "    return result"
   ]
  },
  {
   "cell_type": "code",
   "execution_count": 62,
   "id": "322ea65a-c8cf-4851-9be8-a816b7351113",
   "metadata": {},
   "outputs": [],
   "source": [
    "def predict_result(df):\n",
    "    model = SARIMAX(df, order=(1, 1, 1), seasonal_order=(0, 1, 1, 12))\n",
    "    results = model.fit()\n",
    "\n",
    "    predictions = results.get_forecast(steps=2)\n",
    "    \n",
    "    mean_prediction = predictions.predicted_mean\n",
    "    print(f'mean_prediction: {mean_prediction}')\n",
    "    ci_95 = predictions.conf_int(alpha=0.05)\n",
    "    result_df = pd.DataFrame({   \n",
    "        'Forecast': mean_prediction,\n",
    "        'Lower CI': ci_95.iloc[:, 0],\n",
    "        'Upper CI': ci_95.iloc[:, 1]\n",
    "    })\n",
    "    return result_df"
   ]
  },
  {
   "cell_type": "code",
   "execution_count": 63,
   "id": "1f5c1f21-77ea-4c71-b9e4-910022b78ee8",
   "metadata": {},
   "outputs": [],
   "source": [
    "def fit_data(df):    \n",
    "   \n",
    "    df['dt'] = pd.to_datetime(df['dt'])\n",
    "    df = df.set_index('dt')\n",
    "#    column_name = df.columns[0]    \n",
    "    return predict_result(df)   "
   ]
  },
  {
   "cell_type": "code",
   "execution_count": 64,
   "id": "5958c260-9d25-461f-a9a5-222112511c08",
   "metadata": {},
   "outputs": [],
   "source": [
    "#передается в след функцию dataframe и отдается наружу результат предсказания (сами значения forecast и доверительные интервалы)\n",
    "def prediction(dt):   \n",
    "    df = pd.DataFrame.from_dict(dt)\n",
    "    result = fit_data(df)\n",
    "    return result"
   ]
  },
  {
   "cell_type": "code",
   "execution_count": null,
   "id": "e9e74668-3685-4b2f-80e5-5c9f85960cf4",
   "metadata": {},
   "outputs": [
    {
     "name": "stdout",
     "output_type": "stream",
     "text": [
      " * Serving Flask app '__main__'\n",
      " * Debug mode: off\n"
     ]
    },
    {
     "name": "stderr",
     "output_type": "stream",
     "text": [
      "\u001b[31m\u001b[1mWARNING: This is a development server. Do not use it in a production deployment. Use a production WSGI server instead.\u001b[0m\n",
      " * Running on http://127.0.0.1:8088\n",
      "\u001b[33mPress CTRL+C to quit\u001b[0m\n",
      " This problem is unconstrained.\n"
     ]
    },
    {
     "name": "stdout",
     "output_type": "stream",
     "text": [
      "RUNNING THE L-BFGS-B CODE\n",
      "\n",
      "           * * *\n",
      "\n",
      "Machine precision = 2.220D-16\n",
      " N =            4     M =           10\n",
      "\n",
      "At X0         0 variables are exactly at the bounds\n",
      "\n",
      "At iterate    0    f=  2.46467D+00    |proj g|=  1.19592D-01\n",
      "\n",
      "At iterate    5    f=  2.34861D+00    |proj g|=  9.17092D-03\n"
     ]
    },
    {
     "name": "stderr",
     "output_type": "stream",
     "text": [
      "127.0.0.1 - - [03/Sep/2024 17:41:45] \"POST /predict HTTP/1.1\" 200 -\n"
     ]
    },
    {
     "name": "stdout",
     "output_type": "stream",
     "text": [
      "\n",
      "At iterate   10    f=  2.34664D+00    |proj g|=  6.06305D-05\n",
      "\n",
      "           * * *\n",
      "\n",
      "Tit   = total number of iterations\n",
      "Tnf   = total number of function evaluations\n",
      "Tnint = total number of segments explored during Cauchy searches\n",
      "Skip  = number of BFGS updates skipped\n",
      "Nact  = number of active bounds at final generalized Cauchy point\n",
      "Projg = norm of the final projected gradient\n",
      "F     = final function value\n",
      "\n",
      "           * * *\n",
      "\n",
      "   N    Tit     Tnf  Tnint  Skip  Nact     Projg        F\n",
      "    4     12     15      1     0     0   7.122D-06   2.347D+00\n",
      "  F =   2.3466432718985408     \n",
      "\n",
      "CONVERGENCE: NORM_OF_PROJECTED_GRADIENT_<=_PGTOL            \n",
      "mean_prediction: 2024-01-01    10.649763\n",
      "2024-02-01     8.156934\n",
      "Freq: MS, Name: predicted_mean, dtype: float64\n"
     ]
    }
   ],
   "source": [
    "from flask import Flask, request, jsonify\n",
    "import pandas as pd\n",
    "\n",
    "app = Flask(__name__)\n",
    "\n",
    "@app.route('/')\n",
    "def home():\n",
    "    return 'Welcome to our service!'\n",
    "    \n",
    "@app.route('/predict', methods=['POST'])\n",
    "def predict():\n",
    "    data = request.get_json() \n",
    "    #print(f'prediction(data):{prediction(data)}')    \n",
    "    df = prediction(data)\n",
    "    return transform_to_json(df)    \n",
    "if __name__ == '__main__':\n",
    "    app.run(port=8088, debug=False)\n"
   ]
  },
  {
   "cell_type": "code",
   "execution_count": null,
   "id": "b41220e9-8f09-49da-bb4b-cd967b5dd633",
   "metadata": {},
   "outputs": [],
   "source": []
  },
  {
   "cell_type": "code",
   "execution_count": null,
   "id": "993800b0-49c0-4b92-9dd9-84ec9a69c0e3",
   "metadata": {},
   "outputs": [],
   "source": []
  },
  {
   "cell_type": "code",
   "execution_count": null,
   "id": "97bed2de-d11f-4f82-90c0-b600bd492bb8",
   "metadata": {},
   "outputs": [],
   "source": [
    "prediction([\n",
    "    {\n",
    "        \"dt\": \"2005-01-01T00:00:00.000\", \n",
    "        \"total_alcohol\": 6.1684   \n",
    "    },    \n",
    "    {\n",
    "        \"dt\": \"2005-02-01T00:00:00.000\",\n",
    "        \"total_alcohol\": 5.1492\n",
    "    }\n",
    "])"
   ]
  },
  {
   "cell_type": "code",
   "execution_count": null,
   "id": "8f31c9d8-95b9-4ba1-bfbd-53a29e31bdd5",
   "metadata": {},
   "outputs": [],
   "source": []
  },
  {
   "cell_type": "code",
   "execution_count": null,
   "id": "3ab8650b-2516-4ad7-8f42-0f32059b74b9",
   "metadata": {},
   "outputs": [],
   "source": []
  }
 ],
 "metadata": {
  "kernelspec": {
   "display_name": "Python 3 (ipykernel)",
   "language": "python",
   "name": "python3"
  },
  "language_info": {
   "codemirror_mode": {
    "name": "ipython",
    "version": 3
   },
   "file_extension": ".py",
   "mimetype": "text/x-python",
   "name": "python",
   "nbconvert_exporter": "python",
   "pygments_lexer": "ipython3",
   "version": "3.12.5"
  }
 },
 "nbformat": 4,
 "nbformat_minor": 5
}
